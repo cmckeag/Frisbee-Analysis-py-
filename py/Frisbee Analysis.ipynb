{
 "cells": [
  {
   "cell_type": "code",
   "execution_count": 2,
   "metadata": {},
   "outputs": [],
   "source": [
    "import pandas as pd\n",
    "import numpy as np"
   ]
  },
  {
   "cell_type": "markdown",
   "metadata": {},
   "source": [
    "## Data Formatting"
   ]
  },
  {
   "cell_type": "code",
   "execution_count": 6,
   "metadata": {},
   "outputs": [
    {
     "data": {
      "text/html": [
       "<div>\n",
       "<style scoped>\n",
       "    .dataframe tbody tr th:only-of-type {\n",
       "        vertical-align: middle;\n",
       "    }\n",
       "\n",
       "    .dataframe tbody tr th {\n",
       "        vertical-align: top;\n",
       "    }\n",
       "\n",
       "    .dataframe thead th {\n",
       "        text-align: right;\n",
       "    }\n",
       "</style>\n",
       "<table border=\"1\" class=\"dataframe\">\n",
       "  <thead>\n",
       "    <tr style=\"text-align: right;\">\n",
       "      <th></th>\n",
       "      <th>Date/Time</th>\n",
       "      <th>Tournamemnt</th>\n",
       "      <th>Opponent</th>\n",
       "      <th>Point Elapsed Seconds</th>\n",
       "      <th>Line</th>\n",
       "      <th>Our Score - End of Point</th>\n",
       "      <th>Their Score - End of Point</th>\n",
       "      <th>Event Type</th>\n",
       "      <th>Action</th>\n",
       "      <th>Passer</th>\n",
       "      <th>...</th>\n",
       "      <th>Begin Area</th>\n",
       "      <th>Begin X</th>\n",
       "      <th>Begin Y</th>\n",
       "      <th>End Area</th>\n",
       "      <th>End X</th>\n",
       "      <th>End Y</th>\n",
       "      <th>Distance Unit of Measure</th>\n",
       "      <th>Absolute Distance</th>\n",
       "      <th>Lateral Distance</th>\n",
       "      <th>Toward Our Goal Distance</th>\n",
       "    </tr>\n",
       "  </thead>\n",
       "  <tbody>\n",
       "    <tr>\n",
       "      <th>0</th>\n",
       "      <td>2017-04-21 19:21</td>\n",
       "      <td>AUDL</td>\n",
       "      <td>San Diego Growlers</td>\n",
       "      <td>18</td>\n",
       "      <td>D</td>\n",
       "      <td>0</td>\n",
       "      <td>1</td>\n",
       "      <td>Defense</td>\n",
       "      <td>Pull</td>\n",
       "      <td>NaN</td>\n",
       "      <td>...</td>\n",
       "      <td>NaN</td>\n",
       "      <td>NaN</td>\n",
       "      <td>NaN</td>\n",
       "      <td>NaN</td>\n",
       "      <td>NaN</td>\n",
       "      <td>NaN</td>\n",
       "      <td>NaN</td>\n",
       "      <td>NaN</td>\n",
       "      <td>NaN</td>\n",
       "      <td>NaN</td>\n",
       "    </tr>\n",
       "    <tr>\n",
       "      <th>1</th>\n",
       "      <td>2017-04-21 19:21</td>\n",
       "      <td>AUDL</td>\n",
       "      <td>San Diego Growlers</td>\n",
       "      <td>18</td>\n",
       "      <td>D</td>\n",
       "      <td>0</td>\n",
       "      <td>1</td>\n",
       "      <td>Defense</td>\n",
       "      <td>Goal</td>\n",
       "      <td>NaN</td>\n",
       "      <td>...</td>\n",
       "      <td>NaN</td>\n",
       "      <td>NaN</td>\n",
       "      <td>NaN</td>\n",
       "      <td>NaN</td>\n",
       "      <td>NaN</td>\n",
       "      <td>NaN</td>\n",
       "      <td>NaN</td>\n",
       "      <td>NaN</td>\n",
       "      <td>NaN</td>\n",
       "      <td>NaN</td>\n",
       "    </tr>\n",
       "    <tr>\n",
       "      <th>2</th>\n",
       "      <td>2017-04-21 19:21</td>\n",
       "      <td>AUDL</td>\n",
       "      <td>San Diego Growlers</td>\n",
       "      <td>101</td>\n",
       "      <td>O</td>\n",
       "      <td>1</td>\n",
       "      <td>1</td>\n",
       "      <td>Offense</td>\n",
       "      <td>Catch</td>\n",
       "      <td>Steven C</td>\n",
       "      <td>...</td>\n",
       "      <td>NaN</td>\n",
       "      <td>NaN</td>\n",
       "      <td>NaN</td>\n",
       "      <td>NaN</td>\n",
       "      <td>NaN</td>\n",
       "      <td>NaN</td>\n",
       "      <td>NaN</td>\n",
       "      <td>NaN</td>\n",
       "      <td>NaN</td>\n",
       "      <td>NaN</td>\n",
       "    </tr>\n",
       "    <tr>\n",
       "      <th>3</th>\n",
       "      <td>2017-04-21 19:21</td>\n",
       "      <td>AUDL</td>\n",
       "      <td>San Diego Growlers</td>\n",
       "      <td>101</td>\n",
       "      <td>O</td>\n",
       "      <td>1</td>\n",
       "      <td>1</td>\n",
       "      <td>Offense</td>\n",
       "      <td>Catch</td>\n",
       "      <td>Chuck C</td>\n",
       "      <td>...</td>\n",
       "      <td>NaN</td>\n",
       "      <td>NaN</td>\n",
       "      <td>NaN</td>\n",
       "      <td>NaN</td>\n",
       "      <td>NaN</td>\n",
       "      <td>NaN</td>\n",
       "      <td>NaN</td>\n",
       "      <td>NaN</td>\n",
       "      <td>NaN</td>\n",
       "      <td>NaN</td>\n",
       "    </tr>\n",
       "    <tr>\n",
       "      <th>4</th>\n",
       "      <td>2017-04-21 19:21</td>\n",
       "      <td>AUDL</td>\n",
       "      <td>San Diego Growlers</td>\n",
       "      <td>101</td>\n",
       "      <td>O</td>\n",
       "      <td>1</td>\n",
       "      <td>1</td>\n",
       "      <td>Offense</td>\n",
       "      <td>Catch</td>\n",
       "      <td>Evan Bo</td>\n",
       "      <td>...</td>\n",
       "      <td>NaN</td>\n",
       "      <td>NaN</td>\n",
       "      <td>NaN</td>\n",
       "      <td>NaN</td>\n",
       "      <td>NaN</td>\n",
       "      <td>NaN</td>\n",
       "      <td>NaN</td>\n",
       "      <td>NaN</td>\n",
       "      <td>NaN</td>\n",
       "      <td>NaN</td>\n",
       "    </tr>\n",
       "    <tr>\n",
       "      <th>5</th>\n",
       "      <td>2017-04-21 19:21</td>\n",
       "      <td>AUDL</td>\n",
       "      <td>San Diego Growlers</td>\n",
       "      <td>101</td>\n",
       "      <td>O</td>\n",
       "      <td>1</td>\n",
       "      <td>1</td>\n",
       "      <td>Offense</td>\n",
       "      <td>Throwaway</td>\n",
       "      <td>Justin N</td>\n",
       "      <td>...</td>\n",
       "      <td>NaN</td>\n",
       "      <td>NaN</td>\n",
       "      <td>NaN</td>\n",
       "      <td>NaN</td>\n",
       "      <td>NaN</td>\n",
       "      <td>NaN</td>\n",
       "      <td>NaN</td>\n",
       "      <td>NaN</td>\n",
       "      <td>NaN</td>\n",
       "      <td>NaN</td>\n",
       "    </tr>\n",
       "  </tbody>\n",
       "</table>\n",
       "<p>6 rows × 52 columns</p>\n",
       "</div>"
      ],
      "text/plain": [
       "          Date/Time Tournamemnt            Opponent  Point Elapsed Seconds  \\\n",
       "0  2017-04-21 19:21        AUDL  San Diego Growlers                     18   \n",
       "1  2017-04-21 19:21        AUDL  San Diego Growlers                     18   \n",
       "2  2017-04-21 19:21        AUDL  San Diego Growlers                    101   \n",
       "3  2017-04-21 19:21        AUDL  San Diego Growlers                    101   \n",
       "4  2017-04-21 19:21        AUDL  San Diego Growlers                    101   \n",
       "5  2017-04-21 19:21        AUDL  San Diego Growlers                    101   \n",
       "\n",
       "  Line  Our Score - End of Point  Their Score - End of Point Event Type  \\\n",
       "0    D                         0                           1    Defense   \n",
       "1    D                         0                           1    Defense   \n",
       "2    O                         1                           1    Offense   \n",
       "3    O                         1                           1    Offense   \n",
       "4    O                         1                           1    Offense   \n",
       "5    O                         1                           1    Offense   \n",
       "\n",
       "      Action    Passer           ...            Begin Area Begin X  Begin Y  \\\n",
       "0       Pull       NaN           ...                   NaN     NaN      NaN   \n",
       "1       Goal       NaN           ...                   NaN     NaN      NaN   \n",
       "2      Catch  Steven C           ...                   NaN     NaN      NaN   \n",
       "3      Catch   Chuck C           ...                   NaN     NaN      NaN   \n",
       "4      Catch   Evan Bo           ...                   NaN     NaN      NaN   \n",
       "5  Throwaway  Justin N           ...                   NaN     NaN      NaN   \n",
       "\n",
       "  End Area End X End Y Distance Unit of Measure Absolute Distance  \\\n",
       "0      NaN   NaN   NaN                      NaN               NaN   \n",
       "1      NaN   NaN   NaN                      NaN               NaN   \n",
       "2      NaN   NaN   NaN                      NaN               NaN   \n",
       "3      NaN   NaN   NaN                      NaN               NaN   \n",
       "4      NaN   NaN   NaN                      NaN               NaN   \n",
       "5      NaN   NaN   NaN                      NaN               NaN   \n",
       "\n",
       "  Lateral Distance Toward Our Goal Distance  \n",
       "0              NaN                      NaN  \n",
       "1              NaN                      NaN  \n",
       "2              NaN                      NaN  \n",
       "3              NaN                      NaN  \n",
       "4              NaN                      NaN  \n",
       "5              NaN                      NaN  \n",
       "\n",
       "[6 rows x 52 columns]"
      ]
     },
     "execution_count": 6,
     "metadata": {},
     "output_type": "execute_result"
    }
   ],
   "source": [
    "## Read in raw data, downloaded directly from ultianalytics.com\n",
    "## Replace filename with your data's filename\n",
    "## Raw data should be in the /dat/ folder\n",
    "filename = '../dat/SanJoseSpiders2017.csv'\n",
    "raw = pd.read_csv(filename)\n",
    "raw.head(6)"
   ]
  },
  {
   "cell_type": "markdown",
   "metadata": {},
   "source": [
    "The ultianalytics data is fairly comprehensive: each row in the dataframe is an action that occurs on the field (catch, goal, turnover, etc.)."
   ]
  },
  {
   "cell_type": "markdown",
   "metadata": {},
   "source": [
    "### Feature Extraction and Engineering"
   ]
  },
  {
   "cell_type": "markdown",
   "metadata": {},
   "source": [
    "We are primarily interested in the 7 players on the field as our features, and the outcome of the point as our target. Other predictors that we can use include whether the point is an O point or a D point (for high level teams, we would expect O points to be scored more often), and the number of points played prior to this point (some teams are stronger later or earlier in the game).\n",
    "\n",
    "Other data that is useful to see (but can't be used as predictors because they are not known before starting a point) include the number of passes completed in a point, the number of possessions during a point, and the duration of a point."
   ]
  },
  {
   "cell_type": "code",
   "execution_count": 3,
   "metadata": {},
   "outputs": [
    {
     "data": {
      "text/html": [
       "<div>\n",
       "<style scoped>\n",
       "    .dataframe tbody tr th:only-of-type {\n",
       "        vertical-align: middle;\n",
       "    }\n",
       "\n",
       "    .dataframe tbody tr th {\n",
       "        vertical-align: top;\n",
       "    }\n",
       "\n",
       "    .dataframe thead th {\n",
       "        text-align: right;\n",
       "    }\n",
       "</style>\n",
       "<table border=\"1\" class=\"dataframe\">\n",
       "  <thead>\n",
       "    <tr style=\"text-align: right;\">\n",
       "      <th></th>\n",
       "      <th>Player 0</th>\n",
       "      <th>Player 1</th>\n",
       "      <th>Player 2</th>\n",
       "      <th>Player 3</th>\n",
       "      <th>Player 4</th>\n",
       "      <th>Player 5</th>\n",
       "      <th>Player 6</th>\n",
       "    </tr>\n",
       "  </thead>\n",
       "  <tbody>\n",
       "    <tr>\n",
       "      <th>0</th>\n",
       "      <td>Kelly V</td>\n",
       "      <td>Sonny Z</td>\n",
       "      <td>Jon G</td>\n",
       "      <td>Matthe C</td>\n",
       "      <td>Brando F</td>\n",
       "      <td>Ethan F</td>\n",
       "      <td>James Y</td>\n",
       "    </tr>\n",
       "    <tr>\n",
       "      <th>1</th>\n",
       "      <td>Kelly V</td>\n",
       "      <td>Sonny Z</td>\n",
       "      <td>Jon G</td>\n",
       "      <td>Matthe C</td>\n",
       "      <td>Brando F</td>\n",
       "      <td>Ethan F</td>\n",
       "      <td>James Y</td>\n",
       "    </tr>\n",
       "    <tr>\n",
       "      <th>2</th>\n",
       "      <td>Evan Br</td>\n",
       "      <td>Steven C</td>\n",
       "      <td>Jackso S</td>\n",
       "      <td>Chuck C</td>\n",
       "      <td>Evan Bo</td>\n",
       "      <td>Justin N</td>\n",
       "      <td>Shane E</td>\n",
       "    </tr>\n",
       "    <tr>\n",
       "      <th>3</th>\n",
       "      <td>Evan Br</td>\n",
       "      <td>Steven C</td>\n",
       "      <td>Jackso S</td>\n",
       "      <td>Chuck C</td>\n",
       "      <td>Evan Bo</td>\n",
       "      <td>Justin N</td>\n",
       "      <td>Shane E</td>\n",
       "    </tr>\n",
       "    <tr>\n",
       "      <th>4</th>\n",
       "      <td>Evan Br</td>\n",
       "      <td>Steven C</td>\n",
       "      <td>Jackso S</td>\n",
       "      <td>Chuck C</td>\n",
       "      <td>Evan Bo</td>\n",
       "      <td>Justin N</td>\n",
       "      <td>Shane E</td>\n",
       "    </tr>\n",
       "    <tr>\n",
       "      <th>5</th>\n",
       "      <td>Evan Br</td>\n",
       "      <td>Steven C</td>\n",
       "      <td>Jackso S</td>\n",
       "      <td>Chuck C</td>\n",
       "      <td>Evan Bo</td>\n",
       "      <td>Justin N</td>\n",
       "      <td>Shane E</td>\n",
       "    </tr>\n",
       "  </tbody>\n",
       "</table>\n",
       "</div>"
      ],
      "text/plain": [
       "  Player 0  Player 1  Player 2  Player 3  Player 4  Player 5 Player 6\n",
       "0  Kelly V   Sonny Z     Jon G  Matthe C  Brando F   Ethan F  James Y\n",
       "1  Kelly V   Sonny Z     Jon G  Matthe C  Brando F   Ethan F  James Y\n",
       "2  Evan Br  Steven C  Jackso S   Chuck C   Evan Bo  Justin N  Shane E\n",
       "3  Evan Br  Steven C  Jackso S   Chuck C   Evan Bo  Justin N  Shane E\n",
       "4  Evan Br  Steven C  Jackso S   Chuck C   Evan Bo  Justin N  Shane E\n",
       "5  Evan Br  Steven C  Jackso S   Chuck C   Evan Bo  Justin N  Shane E"
      ]
     },
     "execution_count": 3,
     "metadata": {},
     "output_type": "execute_result"
    }
   ],
   "source": [
    "raw[['Player 0','Player 1','Player 2','Player 3','Player 4','Player 5','Player 6']].head(6)"
   ]
  },
  {
   "cell_type": "code",
   "execution_count": 4,
   "metadata": {},
   "outputs": [],
   "source": [
    "## Get a list of all the players on the team\n",
    "players = pd.unique(raw[['Player 0','Player 1','Player 2','Player 3','Player 4','Player 5','Player 6']].values.ravel())\n",
    "players = players.astype(str)\n",
    "players = players[~np.isin(players,['nan','Anonymous'])]\n",
    "players = pd.Series(players).sort_values()"
   ]
  },
  {
   "cell_type": "code",
   "execution_count": 5,
   "metadata": {},
   "outputs": [
    {
     "data": {
      "text/html": [
       "<div>\n",
       "<style scoped>\n",
       "    .dataframe tbody tr th:only-of-type {\n",
       "        vertical-align: middle;\n",
       "    }\n",
       "\n",
       "    .dataframe tbody tr th {\n",
       "        vertical-align: top;\n",
       "    }\n",
       "\n",
       "    .dataframe thead th {\n",
       "        text-align: right;\n",
       "    }\n",
       "</style>\n",
       "<table border=\"1\" class=\"dataframe\">\n",
       "  <thead>\n",
       "    <tr style=\"text-align: right;\">\n",
       "      <th></th>\n",
       "      <th>Alec S</th>\n",
       "      <th>Andrew B</th>\n",
       "      <th>Andrew M</th>\n",
       "      <th>Andy S</th>\n",
       "      <th>Brando F</th>\n",
       "      <th>Chris C</th>\n",
       "      <th>Chuck C</th>\n",
       "      <th>David A</th>\n",
       "      <th>Drew K</th>\n",
       "      <th>Ethan F</th>\n",
       "      <th>...</th>\n",
       "      <th>Shane E</th>\n",
       "      <th>Sonny Z</th>\n",
       "      <th>Steven C</th>\n",
       "      <th>Tommy A</th>\n",
       "      <th>Duration</th>\n",
       "      <th>Passes</th>\n",
       "      <th>Possessions</th>\n",
       "      <th>D Line</th>\n",
       "      <th>Points Played</th>\n",
       "      <th>Outcome</th>\n",
       "    </tr>\n",
       "  </thead>\n",
       "  <tbody>\n",
       "    <tr>\n",
       "      <th>0</th>\n",
       "      <td>0</td>\n",
       "      <td>0</td>\n",
       "      <td>0</td>\n",
       "      <td>0</td>\n",
       "      <td>1</td>\n",
       "      <td>0</td>\n",
       "      <td>0</td>\n",
       "      <td>0</td>\n",
       "      <td>0</td>\n",
       "      <td>1</td>\n",
       "      <td>...</td>\n",
       "      <td>0</td>\n",
       "      <td>1</td>\n",
       "      <td>0</td>\n",
       "      <td>0</td>\n",
       "      <td>18</td>\n",
       "      <td>0.0</td>\n",
       "      <td>0</td>\n",
       "      <td>1</td>\n",
       "      <td>0</td>\n",
       "      <td>0</td>\n",
       "    </tr>\n",
       "    <tr>\n",
       "      <th>1</th>\n",
       "      <td>0</td>\n",
       "      <td>0</td>\n",
       "      <td>0</td>\n",
       "      <td>0</td>\n",
       "      <td>0</td>\n",
       "      <td>0</td>\n",
       "      <td>1</td>\n",
       "      <td>0</td>\n",
       "      <td>0</td>\n",
       "      <td>0</td>\n",
       "      <td>...</td>\n",
       "      <td>1</td>\n",
       "      <td>0</td>\n",
       "      <td>1</td>\n",
       "      <td>0</td>\n",
       "      <td>101</td>\n",
       "      <td>10.0</td>\n",
       "      <td>2</td>\n",
       "      <td>0</td>\n",
       "      <td>1</td>\n",
       "      <td>1</td>\n",
       "    </tr>\n",
       "    <tr>\n",
       "      <th>2</th>\n",
       "      <td>0</td>\n",
       "      <td>0</td>\n",
       "      <td>0</td>\n",
       "      <td>0</td>\n",
       "      <td>0</td>\n",
       "      <td>0</td>\n",
       "      <td>0</td>\n",
       "      <td>0</td>\n",
       "      <td>0</td>\n",
       "      <td>0</td>\n",
       "      <td>...</td>\n",
       "      <td>0</td>\n",
       "      <td>1</td>\n",
       "      <td>0</td>\n",
       "      <td>1</td>\n",
       "      <td>48</td>\n",
       "      <td>0.0</td>\n",
       "      <td>0</td>\n",
       "      <td>1</td>\n",
       "      <td>2</td>\n",
       "      <td>0</td>\n",
       "    </tr>\n",
       "    <tr>\n",
       "      <th>3</th>\n",
       "      <td>0</td>\n",
       "      <td>0</td>\n",
       "      <td>0</td>\n",
       "      <td>0</td>\n",
       "      <td>0</td>\n",
       "      <td>0</td>\n",
       "      <td>1</td>\n",
       "      <td>0</td>\n",
       "      <td>1</td>\n",
       "      <td>0</td>\n",
       "      <td>...</td>\n",
       "      <td>0</td>\n",
       "      <td>0</td>\n",
       "      <td>1</td>\n",
       "      <td>0</td>\n",
       "      <td>64</td>\n",
       "      <td>12.0</td>\n",
       "      <td>1</td>\n",
       "      <td>0</td>\n",
       "      <td>3</td>\n",
       "      <td>1</td>\n",
       "    </tr>\n",
       "    <tr>\n",
       "      <th>4</th>\n",
       "      <td>0</td>\n",
       "      <td>0</td>\n",
       "      <td>0</td>\n",
       "      <td>0</td>\n",
       "      <td>1</td>\n",
       "      <td>0</td>\n",
       "      <td>0</td>\n",
       "      <td>0</td>\n",
       "      <td>0</td>\n",
       "      <td>1</td>\n",
       "      <td>...</td>\n",
       "      <td>0</td>\n",
       "      <td>0</td>\n",
       "      <td>0</td>\n",
       "      <td>1</td>\n",
       "      <td>138</td>\n",
       "      <td>7.0</td>\n",
       "      <td>1</td>\n",
       "      <td>1</td>\n",
       "      <td>4</td>\n",
       "      <td>1</td>\n",
       "    </tr>\n",
       "  </tbody>\n",
       "</table>\n",
       "<p>5 rows × 39 columns</p>\n",
       "</div>"
      ],
      "text/plain": [
       "   Alec S  Andrew B  Andrew M  Andy S  Brando F  Chris C  Chuck C  David A  \\\n",
       "0       0         0         0       0         1        0        0        0   \n",
       "1       0         0         0       0         0        0        1        0   \n",
       "2       0         0         0       0         0        0        0        0   \n",
       "3       0         0         0       0         0        0        1        0   \n",
       "4       0         0         0       0         1        0        0        0   \n",
       "\n",
       "   Drew K  Ethan F   ...     Shane E  Sonny Z  Steven C  Tommy A  Duration  \\\n",
       "0       0        1   ...           0        1         0        0        18   \n",
       "1       0        0   ...           1        0         1        0       101   \n",
       "2       0        0   ...           0        1         0        1        48   \n",
       "3       1        0   ...           0        0         1        0        64   \n",
       "4       0        1   ...           0        0         0        1       138   \n",
       "\n",
       "   Passes  Possessions  D Line  Points Played  Outcome  \n",
       "0     0.0            0       1              0        0  \n",
       "1    10.0            2       0              1        1  \n",
       "2     0.0            0       1              2        0  \n",
       "3    12.0            1       0              3        1  \n",
       "4     7.0            1       1              4        1  \n",
       "\n",
       "[5 rows x 39 columns]"
      ]
     },
     "execution_count": 5,
     "metadata": {},
     "output_type": "execute_result"
    }
   ],
   "source": [
    "## Drop columns that will not be useful for us\n",
    "raw = raw[['Opponent','Point Elapsed Seconds','Line','Our Score - End of Point','Their Score - End of Point',\n",
    "           'Event Type','Action','Passer','Receiver','Defender','Player 0','Player 1','Player 2','Player 3','Player 4',\n",
    "          'Player 5','Player 6','Player 7','Player 8']]\n",
    "## Ignore Cessations. In the AUDL it is possible for a point to end without a goal\n",
    "## (in this case, the point is stopped by the clock). We want to remove any actions that occur between\n",
    "## The last goal and a cessation.\n",
    "## This should have no effect on non-AUDL teams.\n",
    "cess_ind = raw[raw['Event Type'] == 'Cessation'].index.values\n",
    "if len(cess_ind > 0):\n",
    "    goal_ind = raw[raw['Action'] == 'Goal'].index.values\n",
    "    ignore_ind = list()\n",
    "    for i in cess_ind:\n",
    "        last_goal = max(goal_ind[goal_ind < i])\n",
    "        ignore_ind.extend(list(range(last_goal+1,i+1)))\n",
    "    raw.drop(ignore_ind, inplace=True)\n",
    "    raw.index = list(range(len(raw)))\n",
    "## Count the number of completed passes in a point\n",
    "goal_ind = raw[raw['Action'] == 'Goal'].index.values\n",
    "pass_ind = (raw['Action'] == 'Catch') | ((raw['Action'] == 'Goal') & (raw['Event Type'] == 'Offense'))\n",
    "passes = pass_ind.groupby(pd.cut(list(range(len(raw))),bins=np.insert(goal_ind,0,0), include_lowest=True)).sum()\n",
    "## Count the number of possessions in a point\n",
    "poss_ind = (raw['Action'] == 'Drop') | ((raw['Action'] == 'Throwaway') & (raw['Event Type'] == 'Offense')) | ((raw['Action'] == 'Goal') & (raw['Event Type'] == 'Offense'))\n",
    "poss = poss_ind.groupby(pd.cut(list(range(len(raw))), bins=np.insert(goal_ind,0,0), include_lowest=True)).sum()\n",
    "## Get the number of points played prior to starting the point\n",
    "pts_played = raw[raw['Action'] == 'Goal']['Our Score - End of Point'] + raw[raw['Action'] == 'Goal']['Their Score - End of Point'] - 1\n",
    "## Get the outcome of every point\n",
    "outcome = (raw[raw['Action'] == 'Goal']['Event Type'] == 'Offense')*1\n",
    "## Get the starting side of each point (1 for D, 0 for O)\n",
    "line = (raw[raw['Action'] == 'Goal']['Line'] == 'D')*1\n",
    "## Get the duration of every point\n",
    "dur = raw[raw['Action'] == 'Goal']['Point Elapsed Seconds']\n",
    "## Get the indicator variables for players on each point\n",
    "dat = pd.DataFrame(raw[raw['Action'] == 'Goal'][['Player 0','Player 1','Player 2','Player 3','Player 4','Player 5','Player 6']].apply(lambda x:list(players.isin(x)*1), axis=1).tolist(), columns=list(players))\n",
    "## Put all the other datapoints in the dataframe\n",
    "dat['Duration'] = list(dur)\n",
    "dat['Passes'] = list(passes)\n",
    "dat['Possessions'] = list(map(int,poss))\n",
    "dat['D Line'] = list(line)\n",
    "dat['Points Played'] = list(pts_played)\n",
    "dat['Outcome'] = list(outcome)\n",
    "dat.head()"
   ]
  },
  {
   "cell_type": "markdown",
   "metadata": {},
   "source": [
    "We now have our data in a format that is readable by machine learning algorithms, with a binary classification target."
   ]
  },
  {
   "cell_type": "markdown",
   "metadata": {},
   "source": [
    "## Visualizations"
   ]
  },
  {
   "cell_type": "markdown",
   "metadata": {},
   "source": [
    "Before we start building models, let's try visualizing our data."
   ]
  },
  {
   "cell_type": "code",
   "execution_count": 6,
   "metadata": {},
   "outputs": [],
   "source": [
    "import matplotlib.pyplot as plt\n",
    "import seaborn as sns\n",
    "%matplotlib inline"
   ]
  },
  {
   "cell_type": "markdown",
   "metadata": {},
   "source": [
    "### Scoring Ratio by Player"
   ]
  },
  {
   "cell_type": "code",
   "execution_count": 7,
   "metadata": {},
   "outputs": [
    {
     "data": {
      "text/plain": [
       "[Text(0.5,0,'Scored'), Text(0.5,1,'Scoring Ratio for Sonny Z')]"
      ]
     },
     "execution_count": 7,
     "metadata": {},
     "output_type": "execute_result"
    },
    {
     "data": {
      "image/png": "[encoded data removed]",
      "text/plain": [
       "<Figure size 576x288 with 1 Axes>"
      ]
     },
     "metadata": {},
     "output_type": "display_data"
    }
   ],
   "source": [
    "## Pick a number within the index of players\n",
    "pl = 1\n",
    "fig,ax = plt.subplots(figsize = (8,4))\n",
    "sns.countplot(x = 'Outcome', data = dat[dat[players[pl]] == 1])\n",
    "ax.set(xlabel='Scored', title = 'Scoring Ratio for ' + players[pl])"
   ]
  },
  {
   "cell_type": "markdown",
   "metadata": {},
   "source": [
    "### Number of Passes Taken to Score"
   ]
  },
  {
   "cell_type": "code",
   "execution_count": 8,
   "metadata": {},
   "outputs": [
    {
     "data": {
      "text/plain": [
       "Text(0,0.5,'Count')"
      ]
     },
     "execution_count": 8,
     "metadata": {},
     "output_type": "execute_result"
    },
    {
     "data": {
      "image/png": "[encoded data removed]",
      "text/plain": [
       "<Figure size 576x288 with 1 Axes>"
      ]
     },
     "metadata": {},
     "output_type": "display_data"
    }
   ],
   "source": [
    "fig,ax = plt.subplots(figsize=(8,4))\n",
    "plt.hist(dat[dat['Outcome']==0]['Passes'], bins = 15, alpha = 0.5, label = \"Didn't score\")\n",
    "plt.hist(dat[dat['Outcome']==1]['Passes'], bins = 15, alpha = 0.5, label = \"Scored\")\n",
    "plt.legend()\n",
    "ax.set_xlabel('Number of Passes')\n",
    "ax.set_ylabel('Count')"
   ]
  },
  {
   "cell_type": "markdown",
   "metadata": {},
   "source": [
    "### Number of Passes Taken to Score - O-Line vs D-Line"
   ]
  },
  {
   "cell_type": "code",
   "execution_count": 9,
   "metadata": {
    "scrolled": false
   },
   "outputs": [
    {
     "data": {
      "text/plain": [
       "Text(0,0.5,'Count')"
      ]
     },
     "execution_count": 9,
     "metadata": {},
     "output_type": "execute_result"
    },
    {
     "data": {
      "image/png": "[encoded data removed]",
      "text/plain": [
       "<Figure size 576x288 with 1 Axes>"
      ]
     },
     "metadata": {},
     "output_type": "display_data"
    }
   ],
   "source": [
    "fig,ax = plt.subplots(figsize=(8,4))\n",
    "plt.hist(dat[(dat['D Line'] == 0) & (dat['Outcome'] == 1)]['Passes'], bins = 15, alpha = 0.5, label = \"O\")\n",
    "plt.hist(dat[(dat['D Line'] == 1) & (dat['Outcome'] == 1)]['Passes'], bins = 15, alpha = 0.5, label = \"D\")\n",
    "plt.legend()\n",
    "ax.set_xlabel('Number of Passes')\n",
    "ax.set_ylabel('Count')"
   ]
  },
  {
   "cell_type": "markdown",
   "metadata": {},
   "source": [
    "It looks like the average number of passes is about the same for both O-Line and D-Line - between 5 and 15 passes. D-Line scores less frequently than O-Line so their count is lower."
   ]
  },
  {
   "cell_type": "markdown",
   "metadata": {},
   "source": [
    "### Number of Possessions Taken to Score"
   ]
  },
  {
   "cell_type": "code",
   "execution_count": 10,
   "metadata": {
    "scrolled": true
   },
   "outputs": [
    {
     "data": {
      "text/plain": [
       "<matplotlib.legend.Legend at 0x1a18ed3668>"
      ]
     },
     "execution_count": 10,
     "metadata": {},
     "output_type": "execute_result"
    },
    {
     "data": {
      "image/png": "[encoded data removed]",
      "text/plain": [
       "<Figure size 576x288 with 1 Axes>"
      ]
     },
     "metadata": {},
     "output_type": "display_data"
    }
   ],
   "source": [
    "fig,ax = plt.subplots(figsize=(8,4))\n",
    "sns.countplot(x = 'Possessions', data = dat, hue = 'Outcome')\n",
    "plt.legend(loc = 'upper right')"
   ]
  },
  {
   "cell_type": "markdown",
   "metadata": {},
   "source": [
    "This is a pretty expected trend:\n",
    "* Never scored when there are 0 possessions (the opposing team scored without turning the disc over)\n",
    "* The majority of scores happen in one possession.\n",
    "* As the number of possessions increases, it appears that the chance of scoring actually remains the same, or even increases in the case of 3 possessions."
   ]
  },
  {
   "cell_type": "markdown",
   "metadata": {},
   "source": [
    "### Scoring Ratio by O-/D-Line"
   ]
  },
  {
   "cell_type": "code",
   "execution_count": 11,
   "metadata": {},
   "outputs": [
    {
     "data": {
      "text/plain": [
       "<matplotlib.axes._subplots.AxesSubplot at 0x1a18e9fba8>"
      ]
     },
     "execution_count": 11,
     "metadata": {},
     "output_type": "execute_result"
    },
    {
     "data": {
      "image/png": "[encoded data removed]",
      "text/plain": [
       "<Figure size 576x288 with 1 Axes>"
      ]
     },
     "metadata": {},
     "output_type": "display_data"
    }
   ],
   "source": [
    "fig,ax = plt.subplots(figsize=(8,4))\n",
    "sns.countplot(x = 'D Line', data = dat, hue = 'Outcome')"
   ]
  },
  {
   "cell_type": "markdown",
   "metadata": {},
   "source": [
    "We would expect that the O-Line has a higher scoring ratio than the D-Line. In the case of the 2017 San Jose Spiders, there was an almost perfect symmetry between the O-Line and D-Line scoring ratios (coincidence)."
   ]
  },
  {
   "cell_type": "markdown",
   "metadata": {},
   "source": [
    "### Duration of Points for O-/D-Line"
   ]
  },
  {
   "cell_type": "code",
   "execution_count": 12,
   "metadata": {},
   "outputs": [
    {
     "data": {
      "text/plain": [
       "<matplotlib.legend.Legend at 0x1a190785c0>"
      ]
     },
     "execution_count": 12,
     "metadata": {},
     "output_type": "execute_result"
    },
    {
     "data": {
      "image/png": "[encoded data removed]",
      "text/plain": [
       "<Figure size 576x288 with 1 Axes>"
      ]
     },
     "metadata": {},
     "output_type": "display_data"
    }
   ],
   "source": [
    "fig,ax = plt.subplots(figsize=(8,4))\n",
    "plt.hist(x = dat[dat['D Line'] == 0]['Duration'], bins = 20, alpha = 0.5, label = 'O-Line')\n",
    "plt.hist(x = dat[dat['D Line'] == 1]['Duration'], bins = 20, alpha = 0.5, label = 'D-Line')\n",
    "ax.set_xlabel('Point Duration (s)')\n",
    "ax.set_ylabel('Count')\n",
    "plt.legend()"
   ]
  },
  {
   "cell_type": "markdown",
   "metadata": {},
   "source": [
    "We see that O-Line tends to be on the field for slightly more seconds per point on average. We can check to see how the O-Line is doing compared to other teams' O-Lines by making the same plot, but only comparing O-Line to D-Line where the D-Line did not score (i.e. the other team's O-Line scored)."
   ]
  },
  {
   "cell_type": "code",
   "execution_count": 13,
   "metadata": {},
   "outputs": [
    {
     "data": {
      "text/plain": [
       "<matplotlib.legend.Legend at 0x1a1906e7f0>"
      ]
     },
     "execution_count": 13,
     "metadata": {},
     "output_type": "execute_result"
    },
    {
     "data": {
      "image/png": "[encoded data removed]",
      "text/plain": [
       "<Figure size 576x288 with 1 Axes>"
      ]
     },
     "metadata": {},
     "output_type": "display_data"
    }
   ],
   "source": [
    "fig,ax = plt.subplots(figsize=(8,4))\n",
    "plt.hist(x = dat[(dat['D Line'] == 0) & (dat['Outcome'] == 1)]['Duration'], bins = 20, alpha = 0.5, label = 'O-Line')\n",
    "plt.hist(x = dat[(dat['D Line'] == 1) & (dat['Outcome'] == 0)]['Duration'], bins = 20, alpha = 0.5, label = 'Other teams O-Line')\n",
    "ax.set_xlabel('Point Duration (s)')\n",
    "ax.set_ylabel('Count')\n",
    "plt.legend()"
   ]
  },
  {
   "cell_type": "markdown",
   "metadata": {},
   "source": [
    "It looks like our O-Line is performing about the same as other teams' O-Lines, maybe taking slightly longer to score than other teams."
   ]
  },
  {
   "cell_type": "markdown",
   "metadata": {},
   "source": [
    "## Modeling and Predictions"
   ]
  },
  {
   "cell_type": "markdown",
   "metadata": {},
   "source": [
    "We now aim to predict the outcome of a point, using the features we have created thus far.\n",
    "Since the only features we would know prior to the start of the point are the players, our focus will be primarily on using the player features to make a predictions.\n",
    "\n",
    "Model accuracy will be measured using k-fold cross validation (k=10). The target variable (outcome) is pretty evenly distributed between 0 and 1, so precision and recall scores are not totally necessary, but we can use them anyway."
   ]
  },
  {
   "cell_type": "markdown",
   "metadata": {},
   "source": [
    "### Model 1: Logistic Regression"
   ]
  },
  {
   "cell_type": "markdown",
   "metadata": {},
   "source": [
    "As this is a binary classification problem, it makes sense to start with a standard logistic regression model."
   ]
  },
  {
   "cell_type": "code",
   "execution_count": 7,
   "metadata": {},
   "outputs": [],
   "source": [
    "from sklearn.linear_model import LogisticRegressionCV\n",
    "from sklearn.model_selection import train_test_split\n",
    "from sklearn.model_selection import cross_val_score\n",
    "from sklearn.metrics import confusion_matrix,classification_report"
   ]
  },
  {
   "cell_type": "code",
   "execution_count": 8,
   "metadata": {},
   "outputs": [],
   "source": [
    "X_train, X_test, y_train, y_test = train_test_split(dat.drop(['Duration','Passes','Possessions','Outcome'], axis=1), dat['Outcome'], test_size=0.2)\n",
    "## Since these features are all indicator variables we can skip the scaling step."
   ]
  },
  {
   "cell_type": "code",
   "execution_count": 16,
   "metadata": {},
   "outputs": [
    {
     "name": "stdout",
     "output_type": "stream",
     "text": [
      "Cross validation score: 0.75\n",
      "\n",
      "\n",
      "[[60 19]\n",
      " [12 58]]\n",
      "\n",
      "\n",
      "             precision    recall  f1-score   support\n",
      "\n",
      "          0       0.83      0.76      0.79        79\n",
      "          1       0.75      0.83      0.79        70\n",
      "\n",
      "avg / total       0.80      0.79      0.79       149\n",
      "\n"
     ]
    }
   ],
   "source": [
    "## Fit a LogisticRegressionCV model\n",
    "clf = LogisticRegressionCV(cv=10)\n",
    "clf.fit(X_train,y_train)\n",
    "pred = clf.predict(X_test)\n",
    "## Check the accuracy\n",
    "print('Cross validation score: %.2f' % \n",
    "      cross_val_score(clf, dat.drop(['Duration','Passes','Possessions','Outcome'], axis=1), dat['Outcome'], cv=10).mean())\n",
    "print('\\n')\n",
    "print(confusion_matrix(y_test,pred))\n",
    "print('\\n')\n",
    "print(classification_report(y_test,pred))"
   ]
  },
  {
   "cell_type": "markdown",
   "metadata": {},
   "source": [
    "So we have a logistic regression model that can predict outcome of a point with some degree of accuracy. One of the benefits of using a model where the players are the only features is that we get a coefficient assigned to each player. This coefficient can act as an indicator of the player's 'value' on the team: players that are on the field when scores occur have higher coefficients than ones that are on the field when getting scored on.\n",
    "\n",
    "Of course, you can't assign a player's value to a single number. There is context behind these values. On high-level teams, sorting players by their coefficient tends to rank O-Line players at the top and D-Line players at the bottom. However, on lower level teams, such a sort produces a somewhat accurate 'good/bad' player ranking."
   ]
  },
  {
   "cell_type": "code",
   "execution_count": 17,
   "metadata": {},
   "outputs": [
    {
     "data": {
      "text/plain": [
       "Chuck C     0.036504\n",
       "Steven C    0.035930\n",
       "Jackso S    0.035077\n",
       "Justin N    0.032677\n",
       "Evan Br     0.029715\n",
       "Shane E     0.028636\n",
       "Andrew B    0.022906\n",
       "Sonny Z     0.021829\n",
       "Evan Bo     0.016765\n",
       "Drew K      0.016514\n",
       "Alec S      0.004779\n",
       "Nick M      0.000800\n",
       "Jake T      0.000146\n",
       "Jacob S    -0.001292\n",
       "Jon G      -0.004100\n",
       "Kelly V    -0.005057\n",
       "James Y    -0.007507\n",
       "Sergio P   -0.008126\n",
       "Matthe C   -0.008704\n",
       "Nichol A   -0.010617\n",
       "Chris C    -0.011892\n",
       "Matt J     -0.013565\n",
       "Ian S      -0.014274\n",
       "Sam A      -0.015183\n",
       "Jeremy K   -0.016002\n",
       "Andy S     -0.016481\n",
       "Tommy A    -0.016632\n",
       "Mike D     -0.019066\n",
       "Andrew M   -0.019163\n",
       "Ian M      -0.019623\n",
       "David A    -0.020363\n",
       "Ethan F    -0.025923\n",
       "Brando F   -0.029512\n",
       "dtype: float64"
      ]
     },
     "execution_count": 17,
     "metadata": {},
     "output_type": "execute_result"
    }
   ],
   "source": [
    "player_ranking = pd.Series(data = clf.coef_[0], index = dat.drop(['Duration','Passes','Possessions','Outcome'], axis=1).columns).sort_values(ascending = False)\n",
    "player_ranking.drop(index = ['D Line','Points Played'])"
   ]
  },
  {
   "cell_type": "markdown",
   "metadata": {},
   "source": [
    "### Testing Feature Importance"
   ]
  },
  {
   "cell_type": "markdown",
   "metadata": {},
   "source": [
    "At the moment, the features we're working with are:\n",
    "* All players on the team\n",
    "* O Line or D Line\n",
    "* Points played prior\n",
    "We want to see if all our features are contributing to the model (particularly the last two, as we won't want to drop any player features).\n",
    "\n",
    "We will use an F-test to see how each feature is doing."
   ]
  },
  {
   "cell_type": "code",
   "execution_count": 42,
   "metadata": {},
   "outputs": [],
   "source": [
    "from sklearn.feature_selection import f_classif"
   ]
  },
  {
   "cell_type": "code",
   "execution_count": 48,
   "metadata": {},
   "outputs": [
    {
     "data": {
      "text/html": [
       "<div>\n",
       "<style scoped>\n",
       "    .dataframe tbody tr th:only-of-type {\n",
       "        vertical-align: middle;\n",
       "    }\n",
       "\n",
       "    .dataframe tbody tr th {\n",
       "        vertical-align: top;\n",
       "    }\n",
       "\n",
       "    .dataframe thead th {\n",
       "        text-align: right;\n",
       "    }\n",
       "</style>\n",
       "<table border=\"1\" class=\"dataframe\">\n",
       "  <thead>\n",
       "    <tr style=\"text-align: right;\">\n",
       "      <th></th>\n",
       "      <th>F value</th>\n",
       "      <th>p value</th>\n",
       "    </tr>\n",
       "  </thead>\n",
       "  <tbody>\n",
       "    <tr>\n",
       "      <th>Alec S</th>\n",
       "      <td>3.638086</td>\n",
       "      <td>5.685817e-02</td>\n",
       "    </tr>\n",
       "    <tr>\n",
       "      <th>Andrew B</th>\n",
       "      <td>53.351632</td>\n",
       "      <td>7.218594e-13</td>\n",
       "    </tr>\n",
       "    <tr>\n",
       "      <th>Andrew M</th>\n",
       "      <td>59.635664</td>\n",
       "      <td>3.705701e-14</td>\n",
       "    </tr>\n",
       "    <tr>\n",
       "      <th>Andy S</th>\n",
       "      <td>35.577160</td>\n",
       "      <td>3.795036e-09</td>\n",
       "    </tr>\n",
       "    <tr>\n",
       "      <th>Brando F</th>\n",
       "      <td>68.770026</td>\n",
       "      <td>5.198974e-16</td>\n",
       "    </tr>\n",
       "    <tr>\n",
       "      <th>Chris C</th>\n",
       "      <td>36.319901</td>\n",
       "      <td>2.638367e-09</td>\n",
       "    </tr>\n",
       "    <tr>\n",
       "      <th>Chuck C</th>\n",
       "      <td>143.080378</td>\n",
       "      <td>2.830193e-30</td>\n",
       "    </tr>\n",
       "    <tr>\n",
       "      <th>David A</th>\n",
       "      <td>48.835170</td>\n",
       "      <td>6.211744e-12</td>\n",
       "    </tr>\n",
       "    <tr>\n",
       "      <th>Drew K</th>\n",
       "      <td>35.416515</td>\n",
       "      <td>4.105762e-09</td>\n",
       "    </tr>\n",
       "    <tr>\n",
       "      <th>Ethan F</th>\n",
       "      <td>74.899102</td>\n",
       "      <td>3.063383e-17</td>\n",
       "    </tr>\n",
       "    <tr>\n",
       "      <th>Evan Bo</th>\n",
       "      <td>45.844094</td>\n",
       "      <td>2.606697e-11</td>\n",
       "    </tr>\n",
       "    <tr>\n",
       "      <th>Evan Br</th>\n",
       "      <td>96.490538</td>\n",
       "      <td>1.719266e-21</td>\n",
       "    </tr>\n",
       "    <tr>\n",
       "      <th>Ian M</th>\n",
       "      <td>51.179327</td>\n",
       "      <td>2.028616e-12</td>\n",
       "    </tr>\n",
       "    <tr>\n",
       "      <th>Ian S</th>\n",
       "      <td>41.394848</td>\n",
       "      <td>2.231235e-10</td>\n",
       "    </tr>\n",
       "    <tr>\n",
       "      <th>Jackso S</th>\n",
       "      <td>133.730774</td>\n",
       "      <td>1.495216e-28</td>\n",
       "    </tr>\n",
       "    <tr>\n",
       "      <th>Jacob S</th>\n",
       "      <td>0.586778</td>\n",
       "      <td>4.439116e-01</td>\n",
       "    </tr>\n",
       "    <tr>\n",
       "      <th>Jake T</th>\n",
       "      <td>1.588397</td>\n",
       "      <td>2.079521e-01</td>\n",
       "    </tr>\n",
       "    <tr>\n",
       "      <th>James Y</th>\n",
       "      <td>7.970167</td>\n",
       "      <td>4.883008e-03</td>\n",
       "    </tr>\n",
       "    <tr>\n",
       "      <th>Jeremy K</th>\n",
       "      <td>46.954224</td>\n",
       "      <td>1.529491e-11</td>\n",
       "    </tr>\n",
       "    <tr>\n",
       "      <th>Jon G</th>\n",
       "      <td>7.503491</td>\n",
       "      <td>6.305968e-03</td>\n",
       "    </tr>\n",
       "    <tr>\n",
       "      <th>Justin N</th>\n",
       "      <td>111.503510</td>\n",
       "      <td>2.236144e-24</td>\n",
       "    </tr>\n",
       "    <tr>\n",
       "      <th>Kelly V</th>\n",
       "      <td>4.225689</td>\n",
       "      <td>4.016632e-02</td>\n",
       "    </tr>\n",
       "    <tr>\n",
       "      <th>Matt J</th>\n",
       "      <td>33.989767</td>\n",
       "      <td>8.268470e-09</td>\n",
       "    </tr>\n",
       "    <tr>\n",
       "      <th>Matthe C</th>\n",
       "      <td>6.601923</td>\n",
       "      <td>1.038136e-02</td>\n",
       "    </tr>\n",
       "    <tr>\n",
       "      <th>Mike D</th>\n",
       "      <td>50.252594</td>\n",
       "      <td>3.155860e-12</td>\n",
       "    </tr>\n",
       "    <tr>\n",
       "      <th>Nichol A</th>\n",
       "      <td>31.708931</td>\n",
       "      <td>2.542845e-08</td>\n",
       "    </tr>\n",
       "    <tr>\n",
       "      <th>Nick M</th>\n",
       "      <td>0.034977</td>\n",
       "      <td>8.516950e-01</td>\n",
       "    </tr>\n",
       "    <tr>\n",
       "      <th>Sam A</th>\n",
       "      <td>34.480377</td>\n",
       "      <td>6.498008e-09</td>\n",
       "    </tr>\n",
       "    <tr>\n",
       "      <th>Sergio P</th>\n",
       "      <td>21.444508</td>\n",
       "      <td>4.300893e-06</td>\n",
       "    </tr>\n",
       "    <tr>\n",
       "      <th>Shane E</th>\n",
       "      <td>93.124375</td>\n",
       "      <td>7.763637e-21</td>\n",
       "    </tr>\n",
       "    <tr>\n",
       "      <th>Sonny Z</th>\n",
       "      <td>40.101654</td>\n",
       "      <td>4.177842e-10</td>\n",
       "    </tr>\n",
       "    <tr>\n",
       "      <th>Steven C</th>\n",
       "      <td>130.810686</td>\n",
       "      <td>5.208934e-28</td>\n",
       "    </tr>\n",
       "    <tr>\n",
       "      <th>Tommy A</th>\n",
       "      <td>47.486250</td>\n",
       "      <td>1.185043e-11</td>\n",
       "    </tr>\n",
       "    <tr>\n",
       "      <th>D Line</th>\n",
       "      <td>225.692586</td>\n",
       "      <td>9.980904e-45</td>\n",
       "    </tr>\n",
       "    <tr>\n",
       "      <th>Points Played</th>\n",
       "      <td>0.149144</td>\n",
       "      <td>6.994653e-01</td>\n",
       "    </tr>\n",
       "  </tbody>\n",
       "</table>\n",
       "</div>"
      ],
      "text/plain": [
       "                  F value       p value\n",
       "Alec S           3.638086  5.685817e-02\n",
       "Andrew B        53.351632  7.218594e-13\n",
       "Andrew M        59.635664  3.705701e-14\n",
       "Andy S          35.577160  3.795036e-09\n",
       "Brando F        68.770026  5.198974e-16\n",
       "Chris C         36.319901  2.638367e-09\n",
       "Chuck C        143.080378  2.830193e-30\n",
       "David A         48.835170  6.211744e-12\n",
       "Drew K          35.416515  4.105762e-09\n",
       "Ethan F         74.899102  3.063383e-17\n",
       "Evan Bo         45.844094  2.606697e-11\n",
       "Evan Br         96.490538  1.719266e-21\n",
       "Ian M           51.179327  2.028616e-12\n",
       "Ian S           41.394848  2.231235e-10\n",
       "Jackso S       133.730774  1.495216e-28\n",
       "Jacob S          0.586778  4.439116e-01\n",
       "Jake T           1.588397  2.079521e-01\n",
       "James Y          7.970167  4.883008e-03\n",
       "Jeremy K        46.954224  1.529491e-11\n",
       "Jon G            7.503491  6.305968e-03\n",
       "Justin N       111.503510  2.236144e-24\n",
       "Kelly V          4.225689  4.016632e-02\n",
       "Matt J          33.989767  8.268470e-09\n",
       "Matthe C         6.601923  1.038136e-02\n",
       "Mike D          50.252594  3.155860e-12\n",
       "Nichol A        31.708931  2.542845e-08\n",
       "Nick M           0.034977  8.516950e-01\n",
       "Sam A           34.480377  6.498008e-09\n",
       "Sergio P        21.444508  4.300893e-06\n",
       "Shane E         93.124375  7.763637e-21\n",
       "Sonny Z         40.101654  4.177842e-10\n",
       "Steven C       130.810686  5.208934e-28\n",
       "Tommy A         47.486250  1.185043e-11\n",
       "D Line         225.692586  9.980904e-45\n",
       "Points Played    0.149144  6.994653e-01"
      ]
     },
     "execution_count": 48,
     "metadata": {},
     "output_type": "execute_result"
    }
   ],
   "source": [
    "F,p = f_classif(dat.drop(['Duration','Passes','Possessions','Outcome'], axis=1), dat['Outcome'])\n",
    "pd.DataFrame(data = {'F value':F,'p value':p},index = dat.drop(['Duration','Passes','Possessions','Outcome'], axis=1).columns)"
   ]
  },
  {
   "cell_type": "markdown",
   "metadata": {},
   "source": [
    "Results will vary depending on the team.\n",
    "\n",
    "We are mostly interested in checking the statistics for the D-Line and Points Played features. The player features all have reasonable F and p values (some players that are lower impact or get little playing time may have high p-values, but we won't drop them). The D-Line statistic has a p-value that is equivalently 0, indicating that it is certainly an important predictor in determining the outcome of a point. The Points Played statistic, however, has a pretty high p-value, so it likely does not affect the outcome of a point.\n",
    "\n",
    "Moving forward, we will not include the Points Played feature in our models, since it has little effect on the target."
   ]
  },
  {
   "cell_type": "markdown",
   "metadata": {},
   "source": [
    "### Feature Interaction"
   ]
  },
  {
   "cell_type": "markdown",
   "metadata": {},
   "source": [
    "The next step is to test if interaction features can significantly improve the model. The hypothesis is that, beyond an individual player's contribution towards scoring or not scoring a point, having certain pairs or groups of players on a line make significantly more contributions (i.e. certain handler cores or cutter cores).\n",
    "\n",
    "We will first inspect second order interaction terms, then third order interaction terms."
   ]
  },
  {
   "cell_type": "code",
   "execution_count": 18,
   "metadata": {},
   "outputs": [],
   "source": [
    "from sklearn.preprocessing import PolynomialFeatures"
   ]
  },
  {
   "cell_type": "code",
   "execution_count": 19,
   "metadata": {},
   "outputs": [
    {
     "data": {
      "text/plain": [
       "(743, 562)"
      ]
     },
     "execution_count": 19,
     "metadata": {},
     "output_type": "execute_result"
    }
   ],
   "source": [
    "intx_generator = PolynomialFeatures(degree = 2, interaction_only = True, include_bias = False)\n",
    "X_intx = intx_generator.fit_transform(dat.drop(['Duration','Passes','D Line','Possessions','Outcome','Points Played'], axis=1))\n",
    "X_intx = pd.DataFrame(X_intx).join(dat['D Line'])\n",
    "X_intx.shape"
   ]
  },
  {
   "cell_type": "markdown",
   "metadata": {},
   "source": [
    "For a team of 30 players, this will add a lot of interaction terms. We will later use dimensionality reduction to see if we can cut this down, but for now we want to see if these interaction terms actually improve the model."
   ]
  },
  {
   "cell_type": "code",
   "execution_count": 20,
   "metadata": {},
   "outputs": [
    {
     "name": "stdout",
     "output_type": "stream",
     "text": [
      "Cross validation score: 0.75\n",
      "\n",
      "\n",
      "[[67 14]\n",
      " [11 57]]\n",
      "\n",
      "\n",
      "             precision    recall  f1-score   support\n",
      "\n",
      "          0       0.86      0.83      0.84        81\n",
      "          1       0.80      0.84      0.82        68\n",
      "\n",
      "avg / total       0.83      0.83      0.83       149\n",
      "\n"
     ]
    }
   ],
   "source": [
    "Xintx_train, Xintx_test, yintx_train, yintx_test = train_test_split(X_intx, dat['Outcome'], test_size=0.2)\n",
    "clf = LogisticRegressionCV(cv=10)\n",
    "clf.fit(Xintx_train,yintx_train)\n",
    "pred_intx = clf.predict(Xintx_test)\n",
    "## Check accuracy\n",
    "print('Cross validation score: %.2f' % \n",
    "      cross_val_score(clf, X_intx, dat['Outcome'], cv=10).mean())\n",
    "print('\\n')\n",
    "print(confusion_matrix(yintx_test,pred_intx))\n",
    "print('\\n')\n",
    "print(classification_report(yintx_test,pred_intx))"
   ]
  },
  {
   "cell_type": "markdown",
   "metadata": {},
   "source": [
    "The impact of including second degree interactions varies by the team (which makes sense, some teams are more dependent upon their cores, others are dependent upon individuals). Some teams get a non-trivial improvement in model accuracy, but most teams see little change. We can also try degree 3 interactions:"
   ]
  },
  {
   "cell_type": "code",
   "execution_count": 21,
   "metadata": {},
   "outputs": [
    {
     "name": "stdout",
     "output_type": "stream",
     "text": [
      "Cross validation score: 0.76\n",
      "\n",
      "\n",
      "[[50 17]\n",
      " [15 67]]\n",
      "\n",
      "\n",
      "             precision    recall  f1-score   support\n",
      "\n",
      "          0       0.77      0.75      0.76        67\n",
      "          1       0.80      0.82      0.81        82\n",
      "\n",
      "avg / total       0.78      0.79      0.78       149\n",
      "\n"
     ]
    }
   ],
   "source": [
    "intx_generator = PolynomialFeatures(degree = 3, interaction_only = True, include_bias = False)\n",
    "X_intx = intx_generator.fit_transform(dat.drop(['Duration','Passes','D Line','Possessions','Outcome','Points Played'], axis=1))\n",
    "X_intx = pd.DataFrame(X_intx).join(dat['D Line'])\n",
    "Xintx_train, Xintx_test, yintx_train, yintx_test = train_test_split(X_intx, dat['Outcome'], test_size=0.2)\n",
    "clf = LogisticRegressionCV(cv=10)\n",
    "clf.fit(Xintx_train,yintx_train)\n",
    "pred_intx = clf.predict(Xintx_test)\n",
    "## Check accuracy\n",
    "print('Cross validation score: %.2f' % \n",
    "      cross_val_score(clf, X_intx, dat['Outcome'], cv=10).mean())\n",
    "print('\\n')\n",
    "print(confusion_matrix(yintx_test,pred_intx))\n",
    "print('\\n')\n",
    "print(classification_report(yintx_test,pred_intx))"
   ]
  },
  {
   "cell_type": "markdown",
   "metadata": {},
   "source": [
    "The degree 3 term rarely improves the model, and takes much longer to process. For proof of concept, we will go forward with the degree 2 interaction terms. The next step is to use dimensionality reduction to try and reduce the large number of features we've introduced."
   ]
  },
  {
   "cell_type": "markdown",
   "metadata": {},
   "source": [
    "### Dimensionality Reduction"
   ]
  },
  {
   "cell_type": "markdown",
   "metadata": {},
   "source": [
    "The feature space lends itself to dimensionality reduction. Because the sport of ultimate tends to divide players into O- and D-Line players, you tend to see certain people playing on the same line together. In addition, you tend to see certain handler cores or cutter cores on the same point together. Since we most likely do not have a homogenous distribution of player features in our training set, there may be some multicollinearity, so dimensionality reduction may be effective.\n",
    "\n",
    "We will use PCA to see how effective dimensionality reduction may be. First we will attempt PCA on the non-interaction features, then on the interaction features."
   ]
  },
  {
   "cell_type": "code",
   "execution_count": 22,
   "metadata": {},
   "outputs": [],
   "source": [
    "from sklearn.decomposition import PCA"
   ]
  },
  {
   "cell_type": "code",
   "execution_count": 23,
   "metadata": {},
   "outputs": [
    {
     "data": {
      "text/plain": [
       "array([35.41390061, 15.70302167, 14.10258721, 13.88617056, 13.30876498,\n",
       "       12.42496554, 12.049285  , 11.37731544, 11.14049949, 10.36831755,\n",
       "       10.22185407,  9.67920937,  9.29394455,  9.16678197,  8.92197828,\n",
       "        8.71991708,  8.2458049 ,  8.06064209,  7.61786056,  7.45970755,\n",
       "        7.19365274,  6.80527162,  6.62669888,  6.61616591,  6.49622688,\n",
       "        6.41589272,  6.08323738,  5.90368875,  5.17435701,  5.0192438 ,\n",
       "        4.69964693,  2.90185955,  2.49567424,  0.41478194])"
      ]
     },
     "execution_count": 23,
     "metadata": {},
     "output_type": "execute_result"
    }
   ],
   "source": [
    "pca = PCA()\n",
    "pca.fit(dat.drop(['Duration','Passes','Possessions','Outcome','Points Played'], axis=1),dat['Outcome'])\n",
    "## Check the singular values\n",
    "pca.singular_values_"
   ]
  },
  {
   "cell_type": "markdown",
   "metadata": {},
   "source": [
    "All the singular values are on a similar order of magnitude, so it doesn't appear that dimensionality reduction is going to be too effective. We can start by removing one dimension."
   ]
  },
  {
   "cell_type": "code",
   "execution_count": 25,
   "metadata": {
    "scrolled": true
   },
   "outputs": [
    {
     "name": "stdout",
     "output_type": "stream",
     "text": [
      "Cross validation score: 0.76\n",
      "\n",
      "\n",
      "[[54 24]\n",
      " [15 56]]\n",
      "\n",
      "\n",
      "             precision    recall  f1-score   support\n",
      "\n",
      "          0       0.78      0.69      0.73        78\n",
      "          1       0.70      0.79      0.74        71\n",
      "\n",
      "avg / total       0.74      0.74      0.74       149\n",
      "\n"
     ]
    }
   ],
   "source": [
    "pca = PCA(n_components = 33)\n",
    "X33 = pca.fit_transform(dat.drop(['Duration','Passes','Points Played','Possessions','Outcome'], axis=1),dat['Outcome'])\n",
    "X33_train, X33_test, y33_train, y33_test = train_test_split(X33, dat['Outcome'], test_size=0.2)\n",
    "clf_new = LogisticRegressionCV(cv=10)\n",
    "clf.fit(X33_train,y33_train)\n",
    "pred33 = clf.predict(X33_test)\n",
    "print('Cross validation score: %.2f' % \n",
    "      cross_val_score(clf, X33, dat['Outcome'], cv=10).mean())\n",
    "print('\\n')\n",
    "print(confusion_matrix(y33_test,pred33))\n",
    "print('\\n')\n",
    "print(classification_report(y33_test,pred33))"
   ]
  },
  {
   "cell_type": "markdown",
   "metadata": {},
   "source": [
    "Cut down to 11 dimensions:"
   ]
  },
  {
   "cell_type": "code",
   "execution_count": 26,
   "metadata": {},
   "outputs": [
    {
     "name": "stdout",
     "output_type": "stream",
     "text": [
      "Cross validation score: 0.75\n",
      "\n",
      "\n",
      "[[66 14]\n",
      " [13 56]]\n",
      "\n",
      "\n",
      "             precision    recall  f1-score   support\n",
      "\n",
      "          0       0.84      0.82      0.83        80\n",
      "          1       0.80      0.81      0.81        69\n",
      "\n",
      "avg / total       0.82      0.82      0.82       149\n",
      "\n"
     ]
    }
   ],
   "source": [
    "pca = PCA(n_components = 11)\n",
    "X11 = pca.fit_transform(dat.drop(['Duration','Passes','Points Played','Possessions','Outcome'], axis=1),dat['Outcome'])\n",
    "X11_train, X11_test, y11_train, y11_test = train_test_split(X11, dat['Outcome'], test_size=0.2)\n",
    "clf_new = LogisticRegressionCV(cv=10)\n",
    "clf.fit(X11_train,y11_train)\n",
    "pred11 = clf.predict(X11_test)\n",
    "print('Cross validation score: %.2f' % \n",
    "      cross_val_score(clf, X11, dat['Outcome'], cv=10).mean())\n",
    "print('\\n')\n",
    "print(confusion_matrix(y11_test,pred11))\n",
    "print('\\n')\n",
    "print(classification_report(y11_test,pred11))"
   ]
  },
  {
   "cell_type": "markdown",
   "metadata": {},
   "source": [
    "Cut down to 6 dimensions:"
   ]
  },
  {
   "cell_type": "code",
   "execution_count": 27,
   "metadata": {},
   "outputs": [
    {
     "name": "stdout",
     "output_type": "stream",
     "text": [
      "Cross validation score: 0.75\n",
      "\n",
      "\n",
      "[[50 24]\n",
      " [19 56]]\n",
      "\n",
      "\n",
      "             precision    recall  f1-score   support\n",
      "\n",
      "          0       0.72      0.68      0.70        74\n",
      "          1       0.70      0.75      0.72        75\n",
      "\n",
      "avg / total       0.71      0.71      0.71       149\n",
      "\n"
     ]
    }
   ],
   "source": [
    "pca = PCA(n_components = 6)\n",
    "X6 = pca.fit_transform(dat.drop(['Duration','Passes','Points Played','Possessions','Outcome'], axis=1),dat['Outcome'])\n",
    "X6_train, X6_test, y6_train, y6_test = train_test_split(X6, dat['Outcome'], test_size=0.2)\n",
    "clf_new = LogisticRegressionCV(cv=10)\n",
    "clf.fit(X6_train,y6_train)\n",
    "pred6 = clf.predict(X6_test)\n",
    "print('Cross validation score: %.2f' % \n",
    "      cross_val_score(clf, X6, dat['Outcome'], cv=10).mean())\n",
    "print('\\n')\n",
    "print(confusion_matrix(y6_test,pred6))\n",
    "print('\\n')\n",
    "print(classification_report(y6_test,pred6))"
   ]
  },
  {
   "cell_type": "markdown",
   "metadata": {},
   "source": [
    "The result of dimensionality reduction varies by team. Usually there is only a slight decrease in accuracy, even when cutting down from 33 to 11 or 6 dimensions. In some cases, there is even an improvement in accuracy.\n",
    "\n",
    "Next, we will see what dimensionality reduction can do for our features with interactions - which is a massive feature space."
   ]
  },
  {
   "cell_type": "code",
   "execution_count": 28,
   "metadata": {},
   "outputs": [],
   "source": [
    "intx_generator = PolynomialFeatures(degree = 2, interaction_only = True, include_bias = False)\n",
    "X_intx = intx_generator.fit_transform(dat.drop(['Duration','Passes','D Line','Possessions','Outcome','Points Played'], axis=1))\n",
    "X_intx = pd.DataFrame(X_intx).join(dat['D Line'])"
   ]
  },
  {
   "cell_type": "markdown",
   "metadata": {},
   "source": [
    "The first thing we want to do is attempt to visualize the singular values. When we only had ~30 features, we could manually inspect the singular values and find good spots to cut off the dimensions. But when there are hundreds of features, we need the help of a graph to find good points."
   ]
  },
  {
   "cell_type": "code",
   "execution_count": 29,
   "metadata": {},
   "outputs": [
    {
     "data": {
      "image/png": "[encoded data removed]",
      "text/plain": [
       "<Figure size 864x288 with 1 Axes>"
      ]
     },
     "metadata": {},
     "output_type": "display_data"
    }
   ],
   "source": [
    "pca = PCA()\n",
    "pca.fit(X_intx,dat['Outcome'])\n",
    "## Plot the singular values\n",
    "plt.figure(figsize = (12,4))\n",
    "plt.scatter(x = list(range(pca.singular_values_.size)), y = pca.singular_values_, s = 5)\n",
    "_ = plt.xlabel('Component #')\n",
    "_ = plt.ylabel('Singular Value')\n",
    "_ = plt.xticks(np.arange(0,X_intx.shape[1]+1,50))"
   ]
  },
  {
   "cell_type": "markdown",
   "metadata": {},
   "source": [
    "We see an elbow in the graph around 35-45 components. Let's see how accurate our interaction model is when we significantly cut down the number of dimensions."
   ]
  },
  {
   "cell_type": "code",
   "execution_count": 31,
   "metadata": {},
   "outputs": [
    {
     "name": "stdout",
     "output_type": "stream",
     "text": [
      "Cross validation score: 0.75\n",
      "\n",
      "\n",
      "[[56 18]\n",
      " [24 51]]\n",
      "\n",
      "\n",
      "             precision    recall  f1-score   support\n",
      "\n",
      "          0       0.70      0.76      0.73        74\n",
      "          1       0.74      0.68      0.71        75\n",
      "\n",
      "avg / total       0.72      0.72      0.72       149\n",
      "\n"
     ]
    }
   ],
   "source": [
    "pca = PCA(n_components = 40)\n",
    "X40 = pca.fit_transform(X_intx,dat['Outcome'])\n",
    "X40_train, X40_test, y40_train, y40_test = train_test_split(X40, dat['Outcome'], test_size=0.2)\n",
    "clf = LogisticRegressionCV(cv=10)\n",
    "clf.fit(X40_train,y40_train)\n",
    "pred40 = clf.predict(X40_test)\n",
    "print('Cross validation score: %.2f' % \n",
    "      cross_val_score(clf, X40, dat['Outcome'], cv=10).mean())\n",
    "print('\\n')\n",
    "print(confusion_matrix(y40_test,pred40))\n",
    "print('\\n')\n",
    "print(classification_report(y40_test,pred40))"
   ]
  },
  {
   "cell_type": "markdown",
   "metadata": {},
   "source": [
    "So, we've now used feature interactions to expand our model, and then PCA to reduce it back to about its original size. The change in accuracy wasn't too significant, but the result is a richer model.\n",
    "\n",
    "The next step is to try a different model algorithm to see if we can really push the accuracy - random forests, and eventually gradient boosting."
   ]
  },
  {
   "cell_type": "markdown",
   "metadata": {},
   "source": [
    "### Model 2: Random Forest"
   ]
  },
  {
   "cell_type": "markdown",
   "metadata": {},
   "source": [
    "Because all our features are booleans, we can create simple decision trees for classifying the outcome of a point.\n",
    "\n",
    "We will try a random forest classifier using our original features, our interactions-augmented features, and our PCA-reduced-interactions features."
   ]
  },
  {
   "cell_type": "code",
   "execution_count": 32,
   "metadata": {},
   "outputs": [],
   "source": [
    "from sklearn.ensemble import RandomForestClassifier"
   ]
  },
  {
   "cell_type": "code",
   "execution_count": 33,
   "metadata": {},
   "outputs": [
    {
     "name": "stdout",
     "output_type": "stream",
     "text": [
      "Cross validation score: 0.64\n",
      "\n",
      "\n",
      "[[45 20]\n",
      " [27 57]]\n",
      "\n",
      "\n",
      "             precision    recall  f1-score   support\n",
      "\n",
      "          0       0.62      0.69      0.66        65\n",
      "          1       0.74      0.68      0.71        84\n",
      "\n",
      "avg / total       0.69      0.68      0.69       149\n",
      "\n"
     ]
    }
   ],
   "source": [
    "X_train, X_test, y_train, y_test = train_test_split(dat.drop(['Duration','Passes','Points Played','Possessions','Outcome'], axis=1), dat['Outcome'], test_size=0.2, random_state=42)\n",
    "clf = RandomForestClassifier()\n",
    "clf.fit(X_train,y_train)\n",
    "pred = clf.predict(X_test)\n",
    "print('Cross validation score: %.2f' % \n",
    "      cross_val_score(clf, dat.drop(['Duration','Passes','Points Played','Possessions','Outcome'], axis=1), dat['Outcome'], cv=10).mean())\n",
    "print('\\n')\n",
    "print(confusion_matrix(y_test,pred))\n",
    "print('\\n')\n",
    "print(classification_report(y_test,pred))"
   ]
  },
  {
   "cell_type": "markdown",
   "metadata": {},
   "source": [
    "The standard random forest model isn't too accurate, at least not as accurate as the logistic regression model. Next, we'll try the same model with degree 2 interaction features."
   ]
  },
  {
   "cell_type": "code",
   "execution_count": 34,
   "metadata": {},
   "outputs": [
    {
     "name": "stdout",
     "output_type": "stream",
     "text": [
      "Cross validation score: 0.66\n",
      "\n",
      "\n",
      "[[50 16]\n",
      " [32 51]]\n",
      "\n",
      "\n",
      "             precision    recall  f1-score   support\n",
      "\n",
      "          0       0.61      0.76      0.68        66\n",
      "          1       0.76      0.61      0.68        83\n",
      "\n",
      "avg / total       0.69      0.68      0.68       149\n",
      "\n"
     ]
    }
   ],
   "source": [
    "intx_generator = PolynomialFeatures(degree = 3, interaction_only = True, include_bias = False)\n",
    "X_intx = intx_generator.fit_transform(dat.drop(['Duration','Passes','D Line','Possessions','Outcome','Points Played'], axis=1))\n",
    "X_intx = pd.DataFrame(X_intx).join(dat['D Line'])\n",
    "Xintx_train, Xintx_test, yintx_train, yintx_test = train_test_split(X_intx, dat['Outcome'], test_size=0.2)\n",
    "clf = RandomForestClassifier()\n",
    "clf.fit(Xintx_train,yintx_train)\n",
    "pred_intx = clf.predict(Xintx_test)\n",
    "print('Cross validation score: %.2f' % \n",
    "      cross_val_score(clf, X_intx, dat['Outcome'], cv=10).mean())\n",
    "print('\\n')\n",
    "print(confusion_matrix(yintx_test,pred_intx))\n",
    "print('\\n')\n",
    "print(classification_report(yintx_test,pred_intx))"
   ]
  },
  {
   "cell_type": "markdown",
   "metadata": {},
   "source": [
    "The extra features didn't seem to help. Lastly, we'll try a random forest after reducing the features with PCA."
   ]
  },
  {
   "cell_type": "code",
   "execution_count": 35,
   "metadata": {},
   "outputs": [
    {
     "name": "stdout",
     "output_type": "stream",
     "text": [
      "Cross validation score: 0.75\n",
      "\n",
      "\n",
      "[[59 16]\n",
      " [19 55]]\n",
      "\n",
      "\n",
      "             precision    recall  f1-score   support\n",
      "\n",
      "          0       0.76      0.79      0.77        75\n",
      "          1       0.77      0.74      0.76        74\n",
      "\n",
      "avg / total       0.77      0.77      0.76       149\n",
      "\n"
     ]
    }
   ],
   "source": [
    "pca = PCA(n_components = 40)\n",
    "X40 = pca.fit_transform(X_intx,dat['Outcome'])\n",
    "X40_train, X40_test, y40_train, y40_test = train_test_split(X40, dat['Outcome'], test_size=0.2)\n",
    "clf = LogisticRegressionCV(cv=10)\n",
    "clf.fit(X40_train,y40_train)\n",
    "pred40 = clf.predict(X40_test)\n",
    "print('Cross validation score: %.2f' % \n",
    "      cross_val_score(clf, X40, dat['Outcome'], cv=10).mean())\n",
    "print('\\n')\n",
    "print(confusion_matrix(y40_test,pred40))\n",
    "print('\\n')\n",
    "print(classification_report(y40_test,pred40))"
   ]
  },
  {
   "cell_type": "markdown",
   "metadata": {},
   "source": [
    "So overall, the random forest model hasn't really helped us. The PCA-reduced-interaction model has given us the best performance, but it is still about on-par with logistic regression.\n",
    "\n",
    "The last model we will try is a gradient-boosting model using xgboost."
   ]
  },
  {
   "cell_type": "markdown",
   "metadata": {},
   "source": [
    "### Model 3: Gradient Boost (XGBoost)"
   ]
  },
  {
   "cell_type": "markdown",
   "metadata": {},
   "source": [
    "Again, we will try XGBoost with 3 formats: standard features, interactions-augmented features, and PCA-reduced interactions features."
   ]
  },
  {
   "cell_type": "code",
   "execution_count": 36,
   "metadata": {},
   "outputs": [],
   "source": [
    "from xgboost import XGBClassifier"
   ]
  },
  {
   "cell_type": "code",
   "execution_count": 37,
   "metadata": {},
   "outputs": [
    {
     "name": "stdout",
     "output_type": "stream",
     "text": [
      "Cross validation score: 0.71\n",
      "\n",
      "\n",
      "[[59 20]\n",
      " [15 55]]\n",
      "\n",
      "\n",
      "             precision    recall  f1-score   support\n",
      "\n",
      "          0       0.80      0.75      0.77        79\n",
      "          1       0.73      0.79      0.76        70\n",
      "\n",
      "avg / total       0.77      0.77      0.77       149\n",
      "\n"
     ]
    }
   ],
   "source": [
    "X_train, X_test, y_train, y_test = train_test_split(dat.drop(['Duration','Passes','Points Played','Possessions','Outcome'], axis=1), dat['Outcome'], test_size=0.2)\n",
    "xgb = XGBClassifier()\n",
    "xgb.fit(X_train, y_train)\n",
    "pred = xgb.predict(X_test)\n",
    "print('Cross validation score: %.2f' % \n",
    "      cross_val_score(xgb, dat.drop(['Duration','Passes','Points Played','Possessions','Outcome'], axis=1), dat['Outcome'], cv=10).mean())\n",
    "print('\\n')\n",
    "print(confusion_matrix(y_test,pred))\n",
    "print('\\n')\n",
    "print(classification_report(y_test,pred))"
   ]
  },
  {
   "cell_type": "markdown",
   "metadata": {},
   "source": [
    "The accuracy is a fair bit better than the random forest model, but is still only on par with the logistic regression model. Next, we try XGBoost with interaction terms."
   ]
  },
  {
   "cell_type": "code",
   "execution_count": 39,
   "metadata": {},
   "outputs": [
    {
     "name": "stdout",
     "output_type": "stream",
     "text": [
      "Cross validation score: 0.71\n",
      "\n",
      "\n",
      "[[58 20]\n",
      " [13 58]]\n",
      "\n",
      "\n",
      "             precision    recall  f1-score   support\n",
      "\n",
      "          0       0.82      0.74      0.78        78\n",
      "          1       0.74      0.82      0.78        71\n",
      "\n",
      "avg / total       0.78      0.78      0.78       149\n",
      "\n"
     ]
    }
   ],
   "source": [
    "intx_generator = PolynomialFeatures(degree = 2, interaction_only = True, include_bias = False)\n",
    "X_intx = intx_generator.fit_transform(dat.drop(['Duration','Passes','D Line','Possessions','Outcome','Points Played'], axis=1))\n",
    "X_intx = pd.DataFrame(X_intx).join(dat['D Line'])\n",
    "Xintx_train, Xintx_test, yintx_train, yintx_test = train_test_split(X_intx, dat['Outcome'], test_size=0.2)\n",
    "xgb = XGBClassifier()\n",
    "xgb.fit(Xintx_train,yintx_train)\n",
    "pred_intx = xgb.predict(Xintx_test)\n",
    "print('Cross validation score: %.2f' % \n",
    "      cross_val_score(xgb, X_intx, dat['Outcome'], cv=10).mean())\n",
    "print('\\n')\n",
    "print(confusion_matrix(yintx_test,pred_intx))\n",
    "print('\\n')\n",
    "print(classification_report(yintx_test,pred_intx))"
   ]
  },
  {
   "cell_type": "markdown",
   "metadata": {},
   "source": [
    "As we have seen previously, the features-augmented scheme alone doesn't help our model. We'll see what happens when we apply PCA to these features."
   ]
  },
  {
   "cell_type": "code",
   "execution_count": 40,
   "metadata": {},
   "outputs": [
    {
     "name": "stdout",
     "output_type": "stream",
     "text": [
      "Cross validation score: 0.75\n",
      "\n",
      "\n",
      "[[59 22]\n",
      " [16 52]]\n",
      "\n",
      "\n",
      "             precision    recall  f1-score   support\n",
      "\n",
      "          0       0.79      0.73      0.76        81\n",
      "          1       0.70      0.76      0.73        68\n",
      "\n",
      "avg / total       0.75      0.74      0.75       149\n",
      "\n"
     ]
    }
   ],
   "source": [
    "pca = PCA(n_components = 40)\n",
    "X40 = pca.fit_transform(X_intx,dat['Outcome'])\n",
    "X40_train, X40_test, y40_train, y40_test = train_test_split(X40, dat['Outcome'], test_size=0.2)\n",
    "xgb = XGBClassifier()\n",
    "xgb.fit(X40_train,y40_train)\n",
    "pred40 = xgb.predict(X40_test)\n",
    "print('Cross validation score: %.2f' % \n",
    "      cross_val_score(clf, X40, dat['Outcome'], cv=10).mean())\n",
    "print('\\n')\n",
    "print(confusion_matrix(y40_test,pred40))\n",
    "print('\\n')\n",
    "print(classification_report(y40_test,pred40))"
   ]
  },
  {
   "cell_type": "markdown",
   "metadata": {},
   "source": [
    "So overall, XGBoost hasn't really improved our results from the original logistic regression model."
   ]
  },
  {
   "cell_type": "markdown",
   "metadata": {},
   "source": [
    "## Conclusion"
   ]
  },
  {
   "cell_type": "markdown",
   "metadata": {},
   "source": [
    "We set out to predict the outcome of a point using only the 7 players called on the point. After examining three different algorithms (logistic regression, random forests, gradient boost) and three different feature transformations (no transformation, degree 2 interactions, degree 2 interactions reduced by PCA), I would choose the logistic regression with the PCA reduced features model.\n",
    "\n",
    "In reality, logistic regresion and gradient boosting performed similarly. However, logistic regression has the benefit of producing a coefficient vector that provides some additional insight into the players on a team (up to some interpretation).\n",
    "\n",
    "Through feature selection, we were also able to learn that the number of points played prior to a point has little effect on determining its outcome. That means that, whether it's at the start or end of a game, the players on the field and whether it's an O or D point are the most important predictors of the outcome.\n",
    "\n",
    "Out of the three feature transformations, the PCA reduced features seemed to perform the best. It equaled or outperformed the original features despite being approximately the same dimension, which implies that the interaction terms were of some value (even though the non-reduced interaction terms performed worse).\n",
    "\n",
    "Overall, none of our models were able to reliably break the 80% accuracy threshold. I would reason that this is the highest we can expect when working with sports data; there are many more variables at play that determine the outcome of a point than just the players on the field (ex: the opposing team, weather). In addition, sports data is highly subject to random noise: the 7 strongest players on the team aren't going to score 100% of the time they are on a line, because that's just how sports works.\n",
    "\n",
    "The fact that we can hit upwards of 75% accuracy with a mostly impractical model is already somewhat impressive. The real insight from this analysis comes from the logistic regression coefficients, which are able to assign (somewhat accurate) 1-dimensional values to the players on a team, and \"rank\" them by their contribution. While this is also impractical (and to some degree, unethical, to reduce a human player down to a number), it can be useful."
   ]
  },
  {
   "cell_type": "code",
   "execution_count": null,
   "metadata": {},
   "outputs": [],
   "source": []
  }
 ],
 "metadata": {
  "kernelspec": {
   "display_name": "Python 3",
   "language": "python",
   "name": "python3"
  },
  "language_info": {
   "codemirror_mode": {
    "name": "ipython",
    "version": 3
   },
   "file_extension": ".py",
   "mimetype": "text/x-python",
   "name": "python",
   "nbconvert_exporter": "python",
   "pygments_lexer": "ipython3",
   "version": "3.6.5"
  }
 },
 "nbformat": 4,
 "nbformat_minor": 2
}
